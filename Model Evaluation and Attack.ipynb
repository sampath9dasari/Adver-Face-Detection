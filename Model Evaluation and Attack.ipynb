{
 "cells": [
  {
   "cell_type": "code",
   "execution_count": 1,
   "metadata": {},
   "outputs": [],
   "source": [
    "%load_ext autoreload\n",
    "%autoreload 2"
   ]
  },
  {
   "cell_type": "code",
   "execution_count": 2,
   "metadata": {},
   "outputs": [],
   "source": [
    "import importlib\n",
    "from model.fasterrcnn import *\n",
    "from model.advattack import *\n",
    "from data_utils.utils import *\n",
    "from data_utils.arraytools import *\n",
    "\n",
    "import matplotlib.pyplot as plt\n",
    "\n",
    "device = torch.device('cuda') if torch.cuda.is_available() else torch.device('cpu')"
   ]
  },
  {
   "cell_type": "markdown",
   "metadata": {},
   "source": [
    "## Model"
   ]
  },
  {
   "cell_type": "code",
   "execution_count": 3,
   "metadata": {},
   "outputs": [
    {
     "data": {
      "text/plain": [
       "<All keys matched successfully>"
      ]
     },
     "execution_count": 3,
     "metadata": {},
     "output_type": "execute_result"
    }
   ],
   "source": [
    "model = load_Faster_RCNN(backbone='resnet18')\n",
    "\n",
    "model.to(device)\n",
    "\n",
    "checkpoint = torch.load('./saved_models/fasterrcnn_resnet18_2021-04-12_final.pth')\n",
    "model.load_state_dict(checkpoint['model'])"
   ]
  },
  {
   "cell_type": "markdown",
   "metadata": {},
   "source": [
    "## Testing"
   ]
  },
  {
   "cell_type": "code",
   "execution_count": 4,
   "metadata": {},
   "outputs": [],
   "source": [
    "test_img_list, test_bboxes = wider_read(limit_images=None, train=False)\n",
    "\n",
    "test_dataset = WiderDataset(test_img_list, test_bboxes)\n",
    "\n",
    "test_loader = DataLoader(test_dataset,\n",
    "                         batch_size=1,\n",
    "                         shuffle=True,\n",
    "                         num_workers=0,\n",
    "                         collate_fn=collate_fn\n",
    "                         )"
   ]
  },
  {
   "cell_type": "code",
   "execution_count": 17,
   "metadata": {},
   "outputs": [
    {
     "name": "stdout",
     "output_type": "stream",
     "text": [
      "Time elapsed in Predicting: 18.62 minutes\n"
     ]
    }
   ],
   "source": [
    "start = time.time()\n",
    "\n",
    "prediction_info = []\n",
    "target_info = []\n",
    "model.eval()\n",
    "\n",
    "for images, targets in test_loader:\n",
    "    images = list(image.to(device) for image in images)\n",
    "    targets = [{k: v.to(device) for k, v in t.items()} for t in targets]\n",
    "\n",
    "    with torch.no_grad():\n",
    "        predictions = model(images)\n",
    "    \n",
    "    predictions = [{k: v.to('cpu').detach() for k, v in t.items()} for t in predictions]\n",
    "    targets = [{k: v.to('cpu').detach() for k, v in t.items()} for t in targets]\n",
    "    prediction_info.append(predictions)\n",
    "    target_info.append(targets)\n",
    "    images = list(image.detach() for image in images)\n",
    "    images.clear()\n",
    "#     targets.clear()\n",
    "    torch.cuda.empty_cache()\n",
    "\n",
    "end = time.time()\n",
    "print(f\"Time elapsed in Predicting: {(end - start)/60:.2f} minutes\")\n",
    "prediction_info = list(itertools.chain(*prediction_info))\n",
    "target_info = list(itertools.chain(*target_info))"
   ]
  },
  {
   "cell_type": "code",
   "execution_count": 18,
   "metadata": {},
   "outputs": [],
   "source": [
    "# model.to('cpu')\n",
    "# torch.cuda.empty_cache()"
   ]
  },
  {
   "cell_type": "code",
   "execution_count": 19,
   "metadata": {},
   "outputs": [],
   "source": [
    "# importlib.reload(data_utils.arraytools)"
   ]
  },
  {
   "cell_type": "code",
   "execution_count": 20,
   "metadata": {},
   "outputs": [
    {
     "name": "stderr",
     "output_type": "stream",
     "text": [
      "Processing : 100%|██████████| 3135/3135 [00:15<00:00, 198.05it/s]\n",
      "Processing : 100%|██████████| 3135/3135 [00:15<00:00, 196.37it/s]\n",
      "Processing : 100%|██████████| 3135/3135 [00:15<00:00, 197.32it/s]\n",
      "Processing : 100%|██████████| 3135/3135 [00:15<00:00, 197.77it/s]\n",
      "Processing : 100%|██████████| 3135/3135 [00:15<00:00, 199.38it/s]\n",
      "Processing :  99%|█████████▉| 3119/3135 [00:15<00:00, 191.29it/s]"
     ]
    }
   ],
   "source": [
    "results = {}\n",
    "for i in range(3,11):\n",
    "    r_temp = evaluation(prediction_info, target_info, iou_thresh=i/10, interpolation_method='EveryPoint')\n",
    "    results[i/10] = r_temp\n",
    "    "
   ]
  },
  {
   "cell_type": "code",
   "execution_count": 21,
   "metadata": {},
   "outputs": [
    {
     "name": "stdout",
     "output_type": "stream",
     "text": [
      "For the Threshold 0.3: \n",
      "Average Precision: 0.64 Total Recall: 0.70\n",
      "\n",
      "For the Threshold 0.4: \n",
      "Average Precision: 0.63 Total Recall: 0.68\n",
      "\n",
      "For the Threshold 0.5: \n",
      "Average Precision: 0.61 Total Recall: 0.66\n",
      "\n",
      "For the Threshold 0.6: \n",
      "Average Precision: 0.57 Total Recall: 0.62\n",
      "\n",
      "For the Threshold 0.7: \n",
      "Average Precision: 0.49 Total Recall: 0.55\n",
      "\n",
      "For the Threshold 0.8: \n",
      "Average Precision: 0.32 Total Recall: 0.40\n",
      "\n",
      "For the Threshold 0.9: \n",
      "Average Precision: 0.06 Total Recall: 0.16\n",
      "\n",
      "For the Threshold 1.0: \n",
      "Average Precision: 0.00 Total Recall: 0.01\n",
      "\n"
     ]
    }
   ],
   "source": [
    "for thres, result in results.items():\n",
    "    prec = result['total TP']/(result['total TP'] + result['total FP'])\n",
    "    rec = result['total TP']/result['total positives']\n",
    "    print(f\"For the Threshold {thres}: \\nAverage Precision: {result['AP']:.2f} Total Recall: {rec:.2f}\")\n",
    "#     PlotPrecisionRecallCurve(result)\n",
    "    print()"
   ]
  },
  {
   "cell_type": "code",
   "execution_count": 22,
   "metadata": {},
   "outputs": [
    {
     "data": {
      "image/png": "[encoded data removed]",
      "text/plain": [
       "<Figure size 1008x360 with 1 Axes>"
      ]
     },
     "metadata": {
      "needs_background": "light"
     },
     "output_type": "display_data"
    }
   ],
   "source": [
    "PlotPrecisionRecallCurve(results[0.5])"
   ]
  },
  {
   "cell_type": "markdown",
   "metadata": {},
   "source": [
    "## Adversarial Attack"
   ]
  },
  {
   "cell_type": "code",
   "execution_count": 5,
   "metadata": {},
   "outputs": [],
   "source": [
    "detector = PyTorchFasterRCNN(model=model, clip_values=(0, 1), preprocessing=None)\n",
    "attack = ProjectedGradientDescent(detector, eps=0.02, eps_step=0.01, max_iter=50, verbose=False)"
   ]
  },
  {
   "cell_type": "code",
   "execution_count": 6,
   "metadata": {},
   "outputs": [],
   "source": [
    "attack_img_list, attack_bboxes = wider_read(limit_images=100, train=False)\n",
    "\n",
    "attack_dataset = WiderDataset(attack_img_list, attack_bboxes)\n",
    "\n",
    "attack_loader = DataLoader(attack_dataset,\n",
    "                         batch_size=1,\n",
    "                         shuffle=True,\n",
    "                         num_workers=0,\n",
    "                         collate_fn=collate_fn\n",
    "                         )"
   ]
  },
  {
   "cell_type": "code",
   "execution_count": null,
   "metadata": {},
   "outputs": [],
   "source": [
    "start = time.time()\n",
    "\n",
    "adv_image_list = []\n",
    "prediction_info = []\n",
    "attack_info = []\n",
    "target_info = []\n",
    "\n",
    "for images, targets in attack_loader:\n",
    "    \n",
    "    org_images = list(image.clone().to(device) for image in images)\n",
    "    attack_images = np.array([tonumpy(image.clone()) for image in images])\n",
    "    targets = [{k: v.to(device) for k, v in t.items()} for t in targets]\n",
    "    \n",
    "    adv_image = attack.generate(x=attack_images, y=None)\n",
    "    adv_image_list.append(adv_image[0].copy())\n",
    "    adv_image = [totensor(adv_image[0].copy()).to(device)]\n",
    "#     print('Image Generated')\n",
    "    \n",
    "    model.eval()\n",
    "    \n",
    "    with torch.no_grad():\n",
    "        org_predictions = model(org_images)\n",
    "        adv_predictions = model(adv_image)\n",
    "\n",
    "    \n",
    "    org_predictions = [{k: v.to('cpu').detach() for k, v in t.items()} for t in org_predictions]\n",
    "    adv_predictions = [{k: v.to('cpu').detach() for k, v in t.items()} for t in adv_predictions]\n",
    "    targets = [{k: v.to('cpu').detach() for k, v in t.items()} for t in targets]\n",
    "    \n",
    "    prediction_info.append(org_predictions)\n",
    "    attack_info.append(adv_predictions)\n",
    "    target_info.append(targets)\n",
    "    \n",
    "    org_images = list(image.detach() for image in org_images)\n",
    "    adv_image = list(image.detach() for image in adv_image)\n",
    "    org_images.clear()\n",
    "    adv_image.clear()\n",
    "    torch.cuda.empty_cache()\n",
    "\n",
    "end = time.time()\n",
    "print(f\"Time elapsed in Predicting: {(end - start)/60:.2f} minutes\")\n",
    "prediction_info = list(itertools.chain(*prediction_info))\n",
    "attack_info = list(itertools.chain(*attack_info))\n",
    "target_info = list(itertools.chain(*target_info))"
   ]
  },
  {
   "cell_type": "code",
   "execution_count": null,
   "metadata": {},
   "outputs": [],
   "source": [
    "r_original = evaluation(prediction_info, target_info, iou_thresh=0.5, interpolation_method='EveryPoint')\n",
    "r_adversarial_samples = evaluation(attack_info, target_info, iou_thresh=0.5, interpolation_method='EveryPoint')"
   ]
  },
  {
   "cell_type": "code",
   "execution_count": null,
   "metadata": {},
   "outputs": [],
   "source": [
    "print(f\"The mAP or mean Average Precision for original images is: {(r_original['AP']*100):.2f}\")"
   ]
  },
  {
   "cell_type": "code",
   "execution_count": null,
   "metadata": {},
   "outputs": [],
   "source": [
    "print(f\"The mAP or mean Average Precision for Adversarial Sample images is: {(r_adversarial_samples['AP']*100):.2f}\")"
   ]
  },
  {
   "cell_type": "code",
   "execution_count": null,
   "metadata": {},
   "outputs": [],
   "source": [
    "PlotPrecisionRecallCurve(r_original)"
   ]
  },
  {
   "cell_type": "code",
   "execution_count": null,
   "metadata": {},
   "outputs": [],
   "source": [
    "PlotPrecisionRecallCurve(r_adversarial_samples)"
   ]
  },
  {
   "cell_type": "code",
   "execution_count": null,
   "metadata": {},
   "outputs": [],
   "source": []
  }
 ],
 "metadata": {
  "environment": {
   "name": "pytorch-gpu.1-8.m65",
   "type": "gcloud",
   "uri": "gcr.io/deeplearning-platform-release/pytorch-gpu.1-8:m65"
  },
  "kernelspec": {
   "display_name": "Python [conda env:visionad]",
   "language": "python",
   "name": "conda-env-visionad-py"
  },
  "language_info": {
   "codemirror_mode": {
    "name": "ipython",
    "version": 3
   },
   "file_extension": ".py",
   "mimetype": "text/x-python",
   "name": "python",
   "nbconvert_exporter": "python",
   "pygments_lexer": "ipython3",
   "version": "3.7.4"
  }
 },
 "nbformat": 4,
 "nbformat_minor": 4
}
